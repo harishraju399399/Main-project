{
 "cells": [
  {
   "cell_type": "code",
   "execution_count": 18,
   "id": "26a493cb-992a-4a2f-94df-1f4bd50f76c6",
   "metadata": {},
   "outputs": [],
   "source": [
    "# Importing the required libraries involved in the Logistic Regression model #\n",
    "\n",
    "\n",
    "import pandas as pd\n",
    "from sklearn.preprocessing import StandardScaler as sd\n",
    "from sklearn.model_selection import train_test_split , GridSearchCV\n",
    "from sklearn.linear_model import LogisticRegression\n",
    "from sklearn.metrics import classification_report, confusion_matrix, roc_curve, auc ,accuracy_score\n",
    "from collections import Counter \n"
   ]
  },
  {
   "cell_type": "code",
   "execution_count": 3,
   "id": "a632db25-5119-41fc-8da8-02f03bdf71db",
   "metadata": {},
   "outputs": [],
   "source": [
    "# Loading the Historical  HR_Attrition Dataset#\n",
    "\n",
    "Hr_attrition = pd.read_csv(r\"C:\\Users\\Harish Rudrarju\\Desktop\\elevate labs\\project\\WA_Fn-UseC_-HR-Employee-Attrition.csv\")"
   ]
  },
  {
   "cell_type": "code",
   "execution_count": 4,
   "id": "667010c5-2540-474c-a2c0-60b0d854fff4",
   "metadata": {},
   "outputs": [
    {
     "name": "stdout",
     "output_type": "stream",
     "text": [
      "      Age Attrition     BusinessTravel  DailyRate              Department  \\\n",
      "0      41       Yes      Travel_Rarely       1102                   Sales   \n",
      "1      49        No  Travel_Frequently        279  Research & Development   \n",
      "2      37       Yes      Travel_Rarely       1373  Research & Development   \n",
      "3      33        No  Travel_Frequently       1392  Research & Development   \n",
      "4      27        No      Travel_Rarely        591  Research & Development   \n",
      "...   ...       ...                ...        ...                     ...   \n",
      "1465   36        No  Travel_Frequently        884  Research & Development   \n",
      "1466   39        No      Travel_Rarely        613  Research & Development   \n",
      "1467   27        No      Travel_Rarely        155  Research & Development   \n",
      "1468   49        No  Travel_Frequently       1023                   Sales   \n",
      "1469   34        No      Travel_Rarely        628  Research & Development   \n",
      "\n",
      "      DistanceFromHome  Education EducationField  EmployeeCount  \\\n",
      "0                    1          2  Life Sciences              1   \n",
      "1                    8          1  Life Sciences              1   \n",
      "2                    2          2          Other              1   \n",
      "3                    3          4  Life Sciences              1   \n",
      "4                    2          1        Medical              1   \n",
      "...                ...        ...            ...            ...   \n",
      "1465                23          2        Medical              1   \n",
      "1466                 6          1        Medical              1   \n",
      "1467                 4          3  Life Sciences              1   \n",
      "1468                 2          3        Medical              1   \n",
      "1469                 8          3        Medical              1   \n",
      "\n",
      "      EmployeeNumber  ...  RelationshipSatisfaction StandardHours  \\\n",
      "0                  1  ...                         1            80   \n",
      "1                  2  ...                         4            80   \n",
      "2                  4  ...                         2            80   \n",
      "3                  5  ...                         3            80   \n",
      "4                  7  ...                         4            80   \n",
      "...              ...  ...                       ...           ...   \n",
      "1465            2061  ...                         3            80   \n",
      "1466            2062  ...                         1            80   \n",
      "1467            2064  ...                         2            80   \n",
      "1468            2065  ...                         4            80   \n",
      "1469            2068  ...                         1            80   \n",
      "\n",
      "      StockOptionLevel  TotalWorkingYears  TrainingTimesLastYear  \\\n",
      "0                    0                  8                      0   \n",
      "1                    1                 10                      3   \n",
      "2                    0                  7                      3   \n",
      "3                    0                  8                      3   \n",
      "4                    1                  6                      3   \n",
      "...                ...                ...                    ...   \n",
      "1465                 1                 17                      3   \n",
      "1466                 1                  9                      5   \n",
      "1467                 1                  6                      0   \n",
      "1468                 0                 17                      3   \n",
      "1469                 0                  6                      3   \n",
      "\n",
      "     WorkLifeBalance  YearsAtCompany YearsInCurrentRole  \\\n",
      "0                  1               6                  4   \n",
      "1                  3              10                  7   \n",
      "2                  3               0                  0   \n",
      "3                  3               8                  7   \n",
      "4                  3               2                  2   \n",
      "...              ...             ...                ...   \n",
      "1465               3               5                  2   \n",
      "1466               3               7                  7   \n",
      "1467               3               6                  2   \n",
      "1468               2               9                  6   \n",
      "1469               4               4                  3   \n",
      "\n",
      "      YearsSinceLastPromotion  YearsWithCurrManager  \n",
      "0                           0                     5  \n",
      "1                           1                     7  \n",
      "2                           0                     0  \n",
      "3                           3                     0  \n",
      "4                           2                     2  \n",
      "...                       ...                   ...  \n",
      "1465                        0                     3  \n",
      "1466                        1                     7  \n",
      "1467                        0                     3  \n",
      "1468                        0                     8  \n",
      "1469                        1                     2  \n",
      "\n",
      "[1470 rows x 35 columns]\n"
     ]
    }
   ],
   "source": [
    "#Checking the data was loaded or not #\n",
    "\n",
    "print(Hr_attrition)"
   ]
  },
  {
   "cell_type": "code",
   "execution_count": 5,
   "id": "76e3616e-7763-4ae9-9b46-7d4990a27aec",
   "metadata": {},
   "outputs": [
    {
     "name": "stdout",
     "output_type": "stream",
     "text": [
      "<class 'pandas.core.frame.DataFrame'>\n",
      "RangeIndex: 1470 entries, 0 to 1469\n",
      "Data columns (total 35 columns):\n",
      " #   Column                    Non-Null Count  Dtype \n",
      "---  ------                    --------------  ----- \n",
      " 0   Age                       1470 non-null   int64 \n",
      " 1   Attrition                 1470 non-null   object\n",
      " 2   BusinessTravel            1470 non-null   object\n",
      " 3   DailyRate                 1470 non-null   int64 \n",
      " 4   Department                1470 non-null   object\n",
      " 5   DistanceFromHome          1470 non-null   int64 \n",
      " 6   Education                 1470 non-null   int64 \n",
      " 7   EducationField            1470 non-null   object\n",
      " 8   EmployeeCount             1470 non-null   int64 \n",
      " 9   EmployeeNumber            1470 non-null   int64 \n",
      " 10  EnvironmentSatisfaction   1470 non-null   int64 \n",
      " 11  Gender                    1470 non-null   object\n",
      " 12  HourlyRate                1470 non-null   int64 \n",
      " 13  JobInvolvement            1470 non-null   int64 \n",
      " 14  JobLevel                  1470 non-null   int64 \n",
      " 15  JobRole                   1470 non-null   object\n",
      " 16  JobSatisfaction           1470 non-null   int64 \n",
      " 17  MaritalStatus             1470 non-null   object\n",
      " 18  MonthlyIncome             1470 non-null   int64 \n",
      " 19  MonthlyRate               1470 non-null   int64 \n",
      " 20  NumCompaniesWorked        1470 non-null   int64 \n",
      " 21  Over18                    1470 non-null   object\n",
      " 22  OverTime                  1470 non-null   object\n",
      " 23  PercentSalaryHike         1470 non-null   int64 \n",
      " 24  PerformanceRating         1470 non-null   int64 \n",
      " 25  RelationshipSatisfaction  1470 non-null   int64 \n",
      " 26  StandardHours             1470 non-null   int64 \n",
      " 27  StockOptionLevel          1470 non-null   int64 \n",
      " 28  TotalWorkingYears         1470 non-null   int64 \n",
      " 29  TrainingTimesLastYear     1470 non-null   int64 \n",
      " 30  WorkLifeBalance           1470 non-null   int64 \n",
      " 31  YearsAtCompany            1470 non-null   int64 \n",
      " 32  YearsInCurrentRole        1470 non-null   int64 \n",
      " 33  YearsSinceLastPromotion   1470 non-null   int64 \n",
      " 34  YearsWithCurrManager      1470 non-null   int64 \n",
      "dtypes: int64(26), object(9)\n",
      "memory usage: 402.1+ KB\n"
     ]
    }
   ],
   "source": [
    "#checking the datatypes and analyzing which colums needed to predict Attrition #\n",
    "Hr_attrition.info()"
   ]
  },
  {
   "cell_type": "code",
   "execution_count": 6,
   "id": "ece08734-81a9-4f79-938b-65d70a44b5f5",
   "metadata": {},
   "outputs": [],
   "source": [
    "# Removing or Droping unwanted columns in dataset #\n",
    "\n",
    "Hr_attrition.drop(['Age','BusinessTravel','DailyRate','Department','Education','EducationField','EmployeeCount','EmployeeNumber','Gender','HourlyRate','JobInvolvement','JobLevel','JobRole','MaritalStatus','MonthlyIncome','MonthlyRate','NumCompaniesWorked','Over18','StandardHours','StockOptionLevel','TotalWorkingYears','TrainingTimesLastYear','YearsAtCompany','YearsInCurrentRole','YearsSinceLastPromotion','YearsWithCurrManager'],axis=1,inplace=True)"
   ]
  },
  {
   "cell_type": "code",
   "execution_count": 7,
   "id": "a791fd8c-c9ba-48b5-8c9e-140a0d434bd8",
   "metadata": {},
   "outputs": [
    {
     "name": "stdout",
     "output_type": "stream",
     "text": [
      "<class 'pandas.core.frame.DataFrame'>\n",
      "RangeIndex: 1470 entries, 0 to 1469\n",
      "Data columns (total 9 columns):\n",
      " #   Column                    Non-Null Count  Dtype \n",
      "---  ------                    --------------  ----- \n",
      " 0   Attrition                 1470 non-null   object\n",
      " 1   DistanceFromHome          1470 non-null   int64 \n",
      " 2   EnvironmentSatisfaction   1470 non-null   int64 \n",
      " 3   JobSatisfaction           1470 non-null   int64 \n",
      " 4   OverTime                  1470 non-null   object\n",
      " 5   PercentSalaryHike         1470 non-null   int64 \n",
      " 6   PerformanceRating         1470 non-null   int64 \n",
      " 7   RelationshipSatisfaction  1470 non-null   int64 \n",
      " 8   WorkLifeBalance           1470 non-null   int64 \n",
      "dtypes: int64(7), object(2)\n",
      "memory usage: 103.5+ KB\n"
     ]
    }
   ],
   "source": [
    "# Checking the information of dataset #\n",
    "Hr_attrition.info()"
   ]
  },
  {
   "cell_type": "code",
   "execution_count": 8,
   "id": "6aa8d4b3-fcbb-446d-a25a-367f9a77f0c4",
   "metadata": {},
   "outputs": [
    {
     "name": "stderr",
     "output_type": "stream",
     "text": [
      "C:\\Users\\Harish Rudrarju\\AppData\\Local\\Temp\\ipykernel_15268\\3084656494.py:3: FutureWarning: Downcasting behavior in `replace` is deprecated and will be removed in a future version. To retain the old behavior, explicitly call `result.infer_objects(copy=False)`. To opt-in to the future behavior, set `pd.set_option('future.no_silent_downcasting', True)`\n",
      "  Hr_attrition['OverTime'] = Hr_attrition['OverTime'].replace({'Yes': 1, 'No': 0})\n"
     ]
    }
   ],
   "source": [
    "# since OverTime  is found as object changing it to int value i.e Yes - 1 and No -0\n",
    "\n",
    "Hr_attrition['OverTime'] = Hr_attrition['OverTime'].replace({'Yes': 1, 'No': 0})"
   ]
  },
  {
   "cell_type": "code",
   "execution_count": 9,
   "id": "fee7e24d-bb42-44c0-888a-e5bdd40966d5",
   "metadata": {},
   "outputs": [
    {
     "name": "stdout",
     "output_type": "stream",
     "text": [
      "<class 'pandas.core.frame.DataFrame'>\n",
      "RangeIndex: 1470 entries, 0 to 1469\n",
      "Data columns (total 9 columns):\n",
      " #   Column                    Non-Null Count  Dtype \n",
      "---  ------                    --------------  ----- \n",
      " 0   Attrition                 1470 non-null   object\n",
      " 1   DistanceFromHome          1470 non-null   int64 \n",
      " 2   EnvironmentSatisfaction   1470 non-null   int64 \n",
      " 3   JobSatisfaction           1470 non-null   int64 \n",
      " 4   OverTime                  1470 non-null   int64 \n",
      " 5   PercentSalaryHike         1470 non-null   int64 \n",
      " 6   PerformanceRating         1470 non-null   int64 \n",
      " 7   RelationshipSatisfaction  1470 non-null   int64 \n",
      " 8   WorkLifeBalance           1470 non-null   int64 \n",
      "dtypes: int64(8), object(1)\n",
      "memory usage: 103.5+ KB\n"
     ]
    }
   ],
   "source": [
    "# Verify all the independent variable are in numeric or not to conduct logistic regression #\n",
    "Hr_attrition.info()"
   ]
  },
  {
   "cell_type": "code",
   "execution_count": 10,
   "id": "b03ea882-5f66-407f-800d-1f7ff347cdf5",
   "metadata": {},
   "outputs": [],
   "source": [
    "# Deciding Independent and Dependent variables x is independent variable and y is dependent variable i.e predictable variable #\n",
    "x = Hr_attrition[['DistanceFromHome','EnvironmentSatisfaction','JobSatisfaction','OverTime','PercentSalaryHike','PerformanceRating','WorkLifeBalance','RelationshipSatisfaction']]\n",
    "y = Hr_attrition['Attrition']"
   ]
  },
  {
   "cell_type": "code",
   "execution_count": 11,
   "id": "8e1c735f-51d2-4647-b921-89cefed9eaef",
   "metadata": {},
   "outputs": [],
   "source": [
    "# Applying standard scaller to arrange all data into same format to independent variable #\n",
    "scaled_x = sd().fit_transform(x)"
   ]
  },
  {
   "cell_type": "code",
   "execution_count": 12,
   "id": "041432df-3e15-47b3-8760-9c83acb04647",
   "metadata": {},
   "outputs": [],
   "source": [
    "# Spliting of Raw data into Train and test with 70:30 ration and random state as 100 #\n",
    "\n",
    "trainx,testx,trainy,testy = train_test_split(x,y,train_size = 0.7 ,random_state =100)"
   ]
  },
  {
   "cell_type": "code",
   "execution_count": 13,
   "id": "5ce83cfe-671a-493a-a3e2-2a6539f80a41",
   "metadata": {},
   "outputs": [],
   "source": [
    "# Applying Logestic Regression to Predict the Attrition i.e predy#\n",
    "\n",
    "multiple_Logistic_regression = LogisticRegression(class_weight='balanced',solver='liblinear').fit(trainx,trainy)"
   ]
  },
  {
   "cell_type": "code",
   "execution_count": 14,
   "id": "a3de9b93-d56a-4c5d-aa34-efd593a267ab",
   "metadata": {},
   "outputs": [
    {
     "name": "stdout",
     "output_type": "stream",
     "text": [
      "LogisticRegression(class_weight='balanced', solver='liblinear')\n"
     ]
    }
   ],
   "source": [
    "print(multiple_Logistic_regression)"
   ]
  },
  {
   "cell_type": "code",
   "execution_count": 15,
   "id": "c94cdfe0-d975-411f-8ee2-ebb6d251d033",
   "metadata": {},
   "outputs": [],
   "source": [
    "# Predicting the Attrition value #\n",
    "\n",
    "predy=multiple_Logistic_regression.predict(testx)"
   ]
  },
  {
   "cell_type": "code",
   "execution_count": 16,
   "id": "8a1feae9-60d0-4e38-a785-bebf7f379f03",
   "metadata": {},
   "outputs": [
    {
     "name": "stdout",
     "output_type": "stream",
     "text": [
      "['No' 'Yes' 'No' 'Yes' 'Yes' 'Yes' 'Yes' 'No' 'Yes' 'No' 'Yes' 'No' 'No'\n",
      " 'No' 'Yes' 'No' 'Yes' 'No' 'No' 'No' 'Yes' 'No' 'No' 'No' 'No' 'No' 'Yes'\n",
      " 'No' 'No' 'No' 'No' 'No' 'Yes' 'No' 'No' 'No' 'No' 'No' 'Yes' 'No' 'No'\n",
      " 'No' 'No' 'Yes' 'No' 'No' 'Yes' 'Yes' 'Yes' 'Yes' 'Yes' 'No' 'No' 'No'\n",
      " 'No' 'Yes' 'No' 'No' 'No' 'Yes' 'No' 'Yes' 'Yes' 'Yes' 'No' 'No' 'No'\n",
      " 'Yes' 'Yes' 'No' 'No' 'No' 'No' 'Yes' 'No' 'Yes' 'No' 'No' 'Yes' 'No'\n",
      " 'Yes' 'No' 'Yes' 'No' 'No' 'Yes' 'No' 'No' 'Yes' 'Yes' 'No' 'Yes' 'Yes'\n",
      " 'Yes' 'No' 'No' 'No' 'No' 'No' 'No' 'Yes' 'No' 'No' 'No' 'No' 'No' 'Yes'\n",
      " 'No' 'No' 'No' 'No' 'No' 'Yes' 'No' 'Yes' 'No' 'No' 'Yes' 'No' 'No' 'No'\n",
      " 'No' 'No' 'No' 'No' 'No' 'No' 'Yes' 'No' 'No' 'No' 'Yes' 'Yes' 'Yes'\n",
      " 'Yes' 'No' 'Yes' 'No' 'No' 'No' 'No' 'No' 'Yes' 'No' 'Yes' 'Yes' 'No'\n",
      " 'Yes' 'No' 'Yes' 'No' 'Yes' 'Yes' 'No' 'No' 'No' 'No' 'No' 'No' 'No' 'No'\n",
      " 'Yes' 'No' 'No' 'Yes' 'Yes' 'No' 'Yes' 'Yes' 'Yes' 'No' 'No' 'No' 'No'\n",
      " 'No' 'No' 'No' 'No' 'Yes' 'Yes' 'No' 'Yes' 'Yes' 'No' 'No' 'No' 'Yes'\n",
      " 'No' 'No' 'Yes' 'No' 'No' 'Yes' 'No' 'No' 'No' 'Yes' 'Yes' 'No' 'No' 'No'\n",
      " 'No' 'No' 'No' 'Yes' 'No' 'Yes' 'No' 'Yes' 'No' 'Yes' 'No' 'No' 'No'\n",
      " 'Yes' 'Yes' 'No' 'No' 'No' 'No' 'No' 'No' 'No' 'No' 'No' 'No' 'Yes' 'Yes'\n",
      " 'No' 'No' 'Yes' 'No' 'No' 'No' 'No' 'Yes' 'Yes' 'Yes' 'No' 'No' 'Yes'\n",
      " 'No' 'No' 'No' 'Yes' 'No' 'No' 'Yes' 'No' 'No' 'No' 'No' 'No' 'Yes' 'No'\n",
      " 'Yes' 'No' 'No' 'No' 'No' 'No' 'No' 'No' 'No' 'Yes' 'No' 'No' 'No' 'Yes'\n",
      " 'No' 'No' 'No' 'Yes' 'Yes' 'Yes' 'No' 'Yes' 'Yes' 'Yes' 'Yes' 'No' 'No'\n",
      " 'No' 'Yes' 'No' 'No' 'No' 'No' 'No' 'Yes' 'No' 'No' 'Yes' 'Yes' 'No'\n",
      " 'Yes' 'Yes' 'Yes' 'No' 'Yes' 'Yes' 'Yes' 'No' 'No' 'No' 'Yes' 'No' 'No'\n",
      " 'No' 'Yes' 'No' 'No' 'Yes' 'Yes' 'Yes' 'Yes' 'No' 'No' 'Yes' 'Yes' 'Yes'\n",
      " 'Yes' 'Yes' 'Yes' 'No' 'Yes' 'No' 'No' 'No' 'Yes' 'No' 'No' 'No' 'Yes'\n",
      " 'No' 'Yes' 'No' 'Yes' 'No' 'No' 'No' 'No' 'No' 'No' 'Yes' 'No' 'Yes' 'No'\n",
      " 'No' 'Yes' 'No' 'No' 'No' 'No' 'Yes' 'No' 'No' 'No' 'No' 'Yes' 'Yes' 'No'\n",
      " 'Yes' 'Yes' 'No' 'Yes' 'No' 'Yes' 'No' 'No' 'No' 'No' 'No' 'No' 'No'\n",
      " 'Yes' 'No' 'No' 'No' 'No' 'No' 'No' 'No' 'No' 'No' 'No' 'No' 'Yes' 'No'\n",
      " 'No' 'No' 'No' 'Yes' 'Yes' 'No' 'No' 'Yes' 'No' 'Yes' 'No' 'No' 'Yes'\n",
      " 'Yes' 'No' 'No' 'No' 'No' 'Yes' 'No' 'Yes' 'Yes' 'Yes' 'No' 'No' 'No'\n",
      " 'No' 'No' 'No' 'Yes' 'No' 'Yes' 'No' 'No' 'No' 'No' 'No' 'Yes' 'Yes' 'No'\n",
      " 'No' 'No' 'No' 'No' 'Yes' 'No' 'Yes' 'Yes' 'No' 'Yes' 'No' 'No']\n"
     ]
    }
   ],
   "source": [
    "#printing the predictted Attrition # Here I observed mostly No So there will be less Possibility of Attrition in future #\n",
    "print(predy)"
   ]
  },
  {
   "cell_type": "code",
   "execution_count": 19,
   "id": "11e1ba4c-bf7c-4c1f-8573-a57892cc8cd9",
   "metadata": {},
   "outputs": [
    {
     "name": "stdout",
     "output_type": "stream",
     "text": [
      "Counter({'No': 288, 'Yes': 153})\n"
     ]
    }
   ],
   "source": [
    "result = Counter(predy)\n",
    "print(result)"
   ]
  },
  {
   "cell_type": "code",
   "execution_count": 22,
   "id": "1dc92fea-d7cc-484e-ac6c-cb110d8c0770",
   "metadata": {},
   "outputs": [
    {
     "name": "stdout",
     "output_type": "stream",
     "text": [
      "Confusion Matrix:\n",
      " [[261 110]\n",
      " [ 27  43]]\n",
      "Classification Report:\n",
      "               precision    recall  f1-score   support\n",
      "\n",
      "          No       0.91      0.70      0.79       371\n",
      "         Yes       0.28      0.61      0.39        70\n",
      "\n",
      "    accuracy                           0.69       441\n",
      "   macro avg       0.59      0.66      0.59       441\n",
      "weighted avg       0.81      0.69      0.73       441\n",
      "\n",
      "Accuracy Score: 0.6893424036281179\n"
     ]
    }
   ],
   "source": [
    "# Checking the Accuracy of the model ##\n",
    "\n",
    "print(\"Confusion Matrix:\\n\",confusion_matrix(testy,predy))\n",
    "print(\"Classification Report:\\n\",classification_report(testy,predy))\n",
    "print(\"Accuracy Score:\",accuracy_score(testy,predy))"
   ]
  },
  {
   "cell_type": "code",
   "execution_count": 18,
   "id": "6449afb7-a0e5-4a7a-b26e-fc4add7fd9cd",
   "metadata": {},
   "outputs": [],
   "source": [
    "# Improving  Acuuracy of logistic regression model #Hyperparameter tuning using GridSearchCV#\n",
    "params = {'C': [0.01, 0.1, 1, 10],'penalty': ['l1', 'l2']}\n",
    "\n",
    "grid = GridSearchCV(multiple_Logistic_regression, param_grid=params, cv=5)\n",
    "grid.fit(trainx, trainy)\n",
    "best_model = grid.best_estimator_\n"
   ]
  },
  {
   "cell_type": "code",
   "execution_count": 19,
   "id": "c026056a-71b8-45e7-8646-a29630e5f567",
   "metadata": {},
   "outputs": [],
   "source": [
    "#prediction after improving accuracy#\n",
    "pred_y = best_model.predict(testx)"
   ]
  },
  {
   "cell_type": "code",
   "execution_count": 20,
   "id": "afb67335-4dcf-4d9d-8cca-d079192347e9",
   "metadata": {},
   "outputs": [
    {
     "name": "stdout",
     "output_type": "stream",
     "text": [
      "['No' 'Yes' 'No' 'Yes' 'Yes' 'Yes' 'Yes' 'No' 'Yes' 'No' 'No' 'No' 'No'\n",
      " 'No' 'Yes' 'No' 'Yes' 'No' 'No' 'No' 'Yes' 'No' 'No' 'No' 'No' 'No' 'No'\n",
      " 'No' 'No' 'No' 'No' 'No' 'Yes' 'No' 'No' 'No' 'No' 'No' 'Yes' 'No' 'No'\n",
      " 'No' 'No' 'Yes' 'No' 'No' 'Yes' 'Yes' 'Yes' 'Yes' 'Yes' 'No' 'No' 'No'\n",
      " 'No' 'Yes' 'No' 'No' 'No' 'Yes' 'No' 'Yes' 'Yes' 'Yes' 'No' 'No' 'No'\n",
      " 'Yes' 'No' 'No' 'No' 'Yes' 'No' 'Yes' 'No' 'Yes' 'No' 'No' 'Yes' 'No'\n",
      " 'Yes' 'No' 'Yes' 'No' 'No' 'Yes' 'No' 'No' 'Yes' 'Yes' 'No' 'Yes' 'Yes'\n",
      " 'Yes' 'No' 'No' 'No' 'No' 'No' 'No' 'Yes' 'No' 'No' 'No' 'No' 'No' 'Yes'\n",
      " 'No' 'No' 'No' 'No' 'No' 'Yes' 'No' 'No' 'No' 'No' 'Yes' 'No' 'No' 'No'\n",
      " 'No' 'No' 'No' 'No' 'No' 'No' 'Yes' 'No' 'No' 'No' 'Yes' 'Yes' 'Yes'\n",
      " 'Yes' 'No' 'Yes' 'No' 'No' 'No' 'No' 'No' 'No' 'No' 'No' 'Yes' 'No' 'Yes'\n",
      " 'No' 'Yes' 'No' 'No' 'Yes' 'No' 'No' 'No' 'No' 'No' 'No' 'No' 'No' 'Yes'\n",
      " 'No' 'No' 'No' 'No' 'No' 'No' 'Yes' 'No' 'No' 'No' 'No' 'No' 'No' 'No'\n",
      " 'No' 'No' 'Yes' 'Yes' 'No' 'Yes' 'Yes' 'No' 'No' 'No' 'Yes' 'No' 'No'\n",
      " 'Yes' 'No' 'No' 'Yes' 'No' 'No' 'No' 'Yes' 'Yes' 'No' 'No' 'No' 'No' 'No'\n",
      " 'No' 'Yes' 'No' 'Yes' 'No' 'No' 'No' 'Yes' 'Yes' 'No' 'No' 'No' 'Yes'\n",
      " 'No' 'No' 'No' 'No' 'No' 'No' 'No' 'No' 'No' 'Yes' 'Yes' 'Yes' 'No' 'No'\n",
      " 'No' 'No' 'No' 'No' 'No' 'Yes' 'Yes' 'Yes' 'No' 'No' 'No' 'No' 'No' 'No'\n",
      " 'Yes' 'No' 'No' 'Yes' 'No' 'No' 'No' 'No' 'No' 'No' 'No' 'Yes' 'No' 'No'\n",
      " 'No' 'No' 'No' 'No' 'No' 'No' 'Yes' 'No' 'No' 'No' 'Yes' 'No' 'No' 'No'\n",
      " 'No' 'Yes' 'Yes' 'No' 'Yes' 'Yes' 'Yes' 'Yes' 'No' 'No' 'No' 'No' 'No'\n",
      " 'No' 'No' 'No' 'No' 'Yes' 'No' 'No' 'Yes' 'Yes' 'No' 'Yes' 'Yes' 'Yes'\n",
      " 'No' 'Yes' 'Yes' 'Yes' 'No' 'No' 'No' 'Yes' 'No' 'No' 'No' 'No' 'No' 'No'\n",
      " 'Yes' 'Yes' 'Yes' 'No' 'No' 'No' 'Yes' 'Yes' 'Yes' 'Yes' 'Yes' 'Yes' 'No'\n",
      " 'Yes' 'No' 'No' 'No' 'Yes' 'No' 'Yes' 'No' 'Yes' 'No' 'Yes' 'No' 'Yes'\n",
      " 'No' 'No' 'No' 'No' 'No' 'No' 'Yes' 'No' 'Yes' 'No' 'No' 'Yes' 'No' 'No'\n",
      " 'No' 'No' 'Yes' 'No' 'No' 'No' 'No' 'Yes' 'Yes' 'No' 'Yes' 'Yes' 'No'\n",
      " 'Yes' 'No' 'Yes' 'No' 'No' 'No' 'No' 'No' 'No' 'No' 'Yes' 'No' 'No' 'No'\n",
      " 'No' 'No' 'No' 'No' 'No' 'No' 'No' 'No' 'Yes' 'No' 'No' 'No' 'No' 'Yes'\n",
      " 'Yes' 'No' 'No' 'Yes' 'No' 'Yes' 'No' 'Yes' 'Yes' 'Yes' 'No' 'No' 'No'\n",
      " 'No' 'Yes' 'No' 'Yes' 'Yes' 'Yes' 'No' 'No' 'No' 'No' 'No' 'No' 'Yes'\n",
      " 'No' 'Yes' 'No' 'No' 'No' 'No' 'No' 'Yes' 'No' 'No' 'No' 'No' 'No' 'No'\n",
      " 'Yes' 'No' 'Yes' 'Yes' 'No' 'Yes' 'No' 'No']\n"
     ]
    }
   ],
   "source": [
    "print(pred_y)"
   ]
  },
  {
   "cell_type": "code",
   "execution_count": 21,
   "id": "c6423c2b-c897-4352-8577-d3404ca89c03",
   "metadata": {},
   "outputs": [
    {
     "name": "stdout",
     "output_type": "stream",
     "text": [
      "Confusion Matrix:\n",
      " [[272  99]\n",
      " [ 32  38]]\n",
      "Classification Report:\n",
      "               precision    recall  f1-score   support\n",
      "\n",
      "          No       0.89      0.73      0.81       371\n",
      "         Yes       0.28      0.54      0.37        70\n",
      "\n",
      "    accuracy                           0.70       441\n",
      "   macro avg       0.59      0.64      0.59       441\n",
      "weighted avg       0.80      0.70      0.74       441\n",
      "\n",
      "Accuracy Score: 0.7029478458049887\n"
     ]
    }
   ],
   "source": [
    "# Acuuracy score after improving Accuracy #\n",
    "\n",
    "print(\"Confusion Matrix:\\n\", confusion_matrix(testy, pred_y))\n",
    "print(\"Classification Report:\\n\", classification_report(testy, pred_y))\n",
    "print(\"Accuracy Score:\", accuracy_score(testy, pred_y))"
   ]
  },
  {
   "cell_type": "code",
   "execution_count": null,
   "id": "3692b37c-0398-43bd-b286-acdb6f6cbf96",
   "metadata": {},
   "outputs": [],
   "source": []
  },
  {
   "cell_type": "code",
   "execution_count": null,
   "id": "0e2d5973-b764-41b6-9950-a2297100e8be",
   "metadata": {},
   "outputs": [],
   "source": []
  },
  {
   "cell_type": "code",
   "execution_count": null,
   "id": "231f1128-2c0a-4af0-b259-bda6f02e3b0c",
   "metadata": {},
   "outputs": [],
   "source": []
  },
  {
   "cell_type": "code",
   "execution_count": null,
   "id": "7fd1b8d4-106c-492f-915a-4693cf2b6adc",
   "metadata": {},
   "outputs": [],
   "source": []
  }
 ],
 "metadata": {
  "kernelspec": {
   "display_name": "Python 3 (ipykernel)",
   "language": "python",
   "name": "python3"
  },
  "language_info": {
   "codemirror_mode": {
    "name": "ipython",
    "version": 3
   },
   "file_extension": ".py",
   "mimetype": "text/x-python",
   "name": "python",
   "nbconvert_exporter": "python",
   "pygments_lexer": "ipython3",
   "version": "3.12.7"
  }
 },
 "nbformat": 4,
 "nbformat_minor": 5
}
