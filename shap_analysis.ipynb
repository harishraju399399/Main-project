{
 "cells": [
  {
   "cell_type": "code",
   "execution_count": 17,
   "id": "f3e3078a-9f8d-47a0-a292-f8c2d5f1be72",
   "metadata": {},
   "outputs": [
    {
     "ename": "ModuleNotFoundError",
     "evalue": "No module named 'xgboost'",
     "output_type": "error",
     "traceback": [
      "\u001b[1;31m---------------------------------------------------------------------------\u001b[0m",
      "\u001b[1;31mModuleNotFoundError\u001b[0m                       Traceback (most recent call last)",
      "Cell \u001b[1;32mIn[17], line 4\u001b[0m\n\u001b[0;32m      2\u001b[0m \u001b[38;5;28;01mimport\u001b[39;00m \u001b[38;5;21;01mshap\u001b[39;00m\n\u001b[0;32m      3\u001b[0m \u001b[38;5;28;01mimport\u001b[39;00m \u001b[38;5;21;01mmatplotlib\u001b[39;00m\u001b[38;5;21;01m.\u001b[39;00m\u001b[38;5;21;01mpyplot\u001b[39;00m \u001b[38;5;28;01mas\u001b[39;00m \u001b[38;5;21;01mplt\u001b[39;00m\n\u001b[1;32m----> 4\u001b[0m \u001b[38;5;28;01mimport\u001b[39;00m \u001b[38;5;21;01mxgboost\u001b[39;00m \u001b[38;5;28;01mas\u001b[39;00m \u001b[38;5;21;01mxgb\u001b[39;00m  \u001b[38;5;66;03m# Or any model you're using\u001b[39;00m\n\u001b[0;32m      5\u001b[0m \u001b[38;5;28;01mfrom\u001b[39;00m \u001b[38;5;21;01msklearn\u001b[39;00m\u001b[38;5;21;01m.\u001b[39;00m\u001b[38;5;21;01mmodel_selection\u001b[39;00m \u001b[38;5;28;01mimport\u001b[39;00m train_test_split\n\u001b[0;32m      6\u001b[0m \u001b[38;5;28;01mfrom\u001b[39;00m \u001b[38;5;21;01msklearn\u001b[39;00m\u001b[38;5;21;01m.\u001b[39;00m\u001b[38;5;21;01mpreprocessing\u001b[39;00m \u001b[38;5;28;01mimport\u001b[39;00m LabelEncoder\n",
      "\u001b[1;31mModuleNotFoundError\u001b[0m: No module named 'xgboost'"
     ]
    }
   ],
   "source": [
    "import pandas as pd\n",
    "import shap\n",
    "import matplotlib.pyplot as plt\n",
    "import xgboost as xgb  # Or any model you're using\n",
    "from sklearn.model_selection import train_test_split\n",
    "from sklearn.preprocessing import LabelEncoder\n"
   ]
  },
  {
   "cell_type": "code",
   "execution_count": null,
   "id": "4d025eef-5b21-413e-8c23-128b4be30463",
   "metadata": {},
   "outputs": [],
   "source": [
    "employee_attrition = pd.read_csv(r\"C:\\Users\\Harish Rudrarju\\Desktop\\elevate labs\\project\\WA_Fn-UseC_-HR-Employee-Attrition.csv\")"
   ]
  },
  {
   "cell_type": "code",
   "execution_count": null,
   "id": "141f803e-ea2c-4b3d-9f0e-ee02a1eb2b2d",
   "metadata": {},
   "outputs": [],
   "source": [
    "\n",
    "employee_attrition\n"
   ]
  },
  {
   "cell_type": "code",
   "execution_count": null,
   "id": "bdf7dcbc-169a-4533-9eb1-b263019ae404",
   "metadata": {},
   "outputs": [],
   "source": [
    "employee_attrition.info()"
   ]
  },
  {
   "cell_type": "code",
   "execution_count": null,
   "id": "58b4dcab-be4d-478a-b50b-89c04fe98d37",
   "metadata": {},
   "outputs": [],
   "source": [
    "employee_attrition = employee_attrition.drop(['EmployeeCount', 'Over18', 'StandardHours', 'EmployeeNumber'], axis=1)"
   ]
  },
  {
   "cell_type": "code",
   "execution_count": null,
   "id": "bec39d17-e351-4faf-9401-ad1ad5e40867",
   "metadata": {},
   "outputs": [],
   "source": [
    "for col in employee_attrition.select_dtypes(include=['object']).columns:\n",
    "    employee_attrition[col] = LabelEncoder().fit_transform(employee_attrition[col])"
   ]
  },
  {
   "cell_type": "code",
   "execution_count": null,
   "id": "fbda69c6-027d-409a-aa53-768dd62ad364",
   "metadata": {},
   "outputs": [],
   "source": [
    "model = xgb.XGBClassifier(use_label_encoder=False, eval_metric='logloss')\n",
    "model.fit(X_train, y_train)\n",
    "\n"
   ]
  },
  {
   "cell_type": "code",
   "execution_count": null,
   "id": "63cf59ee-1492-4051-92ba-a6946fd455eb",
   "metadata": {},
   "outputs": [],
   "source": [
    "explainer = shap.Explainer(model, X_train)\n",
    "shap_values = explainer(X_test)\n"
   ]
  },
  {
   "cell_type": "code",
   "execution_count": null,
   "id": "9916bc63-992c-44d1-9ecc-f6b5c4d1e8d2",
   "metadata": {},
   "outputs": [],
   "source": [
    "shap_values"
   ]
  },
  {
   "cell_type": "code",
   "execution_count": null,
   "id": "dfb92458-c2b3-4c14-975e-e76fb0297b4b",
   "metadata": {},
   "outputs": [],
   "source": [
    "shap.summary_plot(shap_values, X_test)\n"
   ]
  },
  {
   "cell_type": "code",
   "execution_count": null,
   "id": "5ef4dfe5-26fb-4690-931e-520d48172abd",
   "metadata": {},
   "outputs": [],
   "source": [
    "shap.plots.bar(shap_values)\n"
   ]
  },
  {
   "cell_type": "code",
   "execution_count": null,
   "id": "948536f7-0ef8-4085-bee5-ff4ee79168c5",
   "metadata": {},
   "outputs": [],
   "source": [
    "shap.initjs()\n",
    "shap.force_plot(explainer.expected_value, shap_values[0], X_test.iloc[0])\n"
   ]
  },
  {
   "cell_type": "code",
   "execution_count": null,
   "id": "49a20c11-9fd1-4fc3-84b7-349204adce77",
   "metadata": {},
   "outputs": [],
   "source": [
    "!pip install xgboost\n"
   ]
  },
  {
   "cell_type": "code",
   "execution_count": null,
   "id": "d3f3beb9-02c8-46ec-9c79-106bf64fe6cf",
   "metadata": {},
   "outputs": [],
   "source": []
  }
 ],
 "metadata": {
  "kernelspec": {
   "display_name": "Python 3 (ipykernel)",
   "language": "python",
   "name": "python3"
  },
  "language_info": {
   "codemirror_mode": {
    "name": "ipython",
    "version": 3
   },
   "file_extension": ".py",
   "mimetype": "text/x-python",
   "name": "python",
   "nbconvert_exporter": "python",
   "pygments_lexer": "ipython3",
   "version": "3.12.7"
  }
 },
 "nbformat": 4,
 "nbformat_minor": 5
}
